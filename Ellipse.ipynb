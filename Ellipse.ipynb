{
 "cells": [
  {
   "cell_type": "code",
   "execution_count": 140,
   "metadata": {},
   "outputs": [],
   "source": [
    "import sympy as sy\n",
    "import numpy as np"
   ]
  },
  {
   "cell_type": "code",
   "execution_count": 174,
   "metadata": {},
   "outputs": [
    {
     "name": "stdout",
     "output_type": "stream",
     "text": [
      "A =  Matrix([[5, -2], [-2, 5]])\n"
     ]
    }
   ],
   "source": [
    "A = sy.Matrix([[5,-2],[-2,5]])\n",
    "print('A = ',A)"
   ]
  },
  {
   "cell_type": "markdown",
   "metadata": {},
   "source": [
    "Create a string vector giving the names in the vector x."
   ]
  },
  {
   "cell_type": "code",
   "execution_count": 171,
   "metadata": {},
   "outputs": [
    {
     "name": "stdout",
     "output_type": "stream",
     "text": [
      "x =  Matrix([[x1], [x2]])\n"
     ]
    }
   ],
   "source": [
    "x = sy.Matrix([['x1'],['x2']])\n",
    "print('x = ',x)"
   ]
  },
  {
   "cell_type": "markdown",
   "metadata": {},
   "source": [
    "Print out the quadratic form so we can copy and paste to print later on."
   ]
  },
  {
   "cell_type": "code",
   "execution_count": 215,
   "metadata": {},
   "outputs": [
    {
     "name": "stdout",
     "output_type": "stream",
     "text": [
      "The quadratic form q(x1,x2) =  5*x1**2 - 4*x1*x2 + 5*x2**2\n"
     ]
    }
   ],
   "source": [
    "from sympy import simplify\n",
    "Quadx = simplify(x.T*A*x)[0]\n",
    "print('The quadratic form q(x1,x2) = ',Quadx)"
   ]
  },
  {
   "cell_type": "markdown",
   "metadata": {},
   "source": [
    "Diagonalize the matrix A.  Notice that we can ask for SymPy to give as unit length eigenvectors in Q."
   ]
  },
  {
   "cell_type": "code",
   "execution_count": 227,
   "metadata": {},
   "outputs": [
    {
     "name": "stdout",
     "output_type": "stream",
     "text": [
      "Eigenvalues of A are:  Matrix([[3, 0], [0, 7]]) \n",
      " and normalized eigenvectors of A are: \n",
      " Matrix([[sqrt(2)/2, -sqrt(2)/2], [sqrt(2)/2, sqrt(2)/2]])\n",
      "First eigenvalue lambda1 =  3 \n",
      " and its associated eigenvector u1 = \n",
      " Matrix([[sqrt(2)/2], [sqrt(2)/2]])\n",
      "Second eigenvalue lambda2 =  0 \n",
      " and its associated eigenvector u2 = \n",
      " Matrix([[-sqrt(2)/2], [sqrt(2)/2]])\n",
      "\n"
     ]
    }
   ],
   "source": [
    "Q,D = A.diagonalize(normalize = True)\n",
    "print('Eigenvalues of A are: ',D, '\\n and normalized eigenvectors of A are: \\n',Q)\n",
    "lambda1 = D[0]\n",
    "u1 = Q[:,0]\n",
    "print('First eigenvalue lambda1 = ',lambda1,'\\n and its associated eigenvector u1 = \\n',u1)\n",
    "lambda2 = D[1]\n",
    "u2 = Q[:,1]\n",
    "print('Second eigenvalue lambda2 = ',lambda2,'\\n and its associated eigenvector u2 = \\n',u2)\n",
    "\n",
    "print('')"
   ]
  },
  {
   "cell_type": "markdown",
   "metadata": {},
   "source": [
    "And now we want to plot the level curve $q(x1,x2) = 1$.  Items you may need to adjust are:\n",
    "\n",
    "    - the size of the x1 and x2 grid\n",
    "    - the values a,b,c,d that point to the endpoint of the eigenvectors at (a,b) and (c,d)\n",
    "    - the equation to plot in plt.contour(...)\n",
    "    - the xy and xytext values to tell where arrows point to (xy) and where to write the text to label the arrows (xytext)\n",
    "    "
   ]
  },
  {
   "cell_type": "code",
   "execution_count": 219,
   "metadata": {},
   "outputs": [
    {
     "name": "stdout",
     "output_type": "stream",
     "text": [
      "(1000,)\n"
     ]
    },
    {
     "data": {
      "image/png": "[encoded data removed]",
      "text/plain": [
       "<Figure size 432x288 with 1 Axes>"
      ]
     },
     "metadata": {},
     "output_type": "display_data"
    }
   ],
   "source": [
    "%matplotlib inline\n",
    "import matplotlib.pyplot as plt\n",
    "\n",
    "def axes():\n",
    "    plt.axhline(0, alpha=.1)\n",
    "    plt.axvline(0, alpha=.1)\n",
    "    \n",
    "x1 = np.linspace(-5,5,1000)\n",
    "x2 = np.linspace(-5,5,1000)\n",
    "\n",
    "x1,x2 = np.meshgrid(x1,x2)\n",
    "\n",
    "a = 1/np.sqrt(3)\n",
    "b = 1/np.sqrt(3)\n",
    "c = -1/np.sqrt(7)\n",
    "d = 1/np.sqrt(7)\n",
    "\n",
    "fig = plt.figure(1)\n",
    "ax = fig.add_subplot(111)\n",
    "\n",
    "plt.contour(x1,x2,5*x1**2 - 4*x1*x2 + 5*x2**2,[1])\n",
    "plt.arrow(0,0,a,b)\n",
    "plt.arrow(0,0,c,d)\n",
    "ax.annotate('u1', xy=(0.5, 0.5), xytext=(1, 1),\n",
    "            arrowprops=dict(facecolor='black', width = 1,shrink=0.05),\n",
    "            )\n",
    "ax.annotate('u2', xy=(-0.25, 0.25), xytext=(-1, 1),\n",
    "            arrowprops=dict(facecolor='black', width = 1,shrink=0.1),\n",
    "            )\n",
    "\n",
    "plt.xlim([-2,2])\n",
    "plt.ylim([-2,2])\n",
    "axes()\n",
    "plt.xlabel('x1')\n",
    "plt.ylabel('x2')\n",
    "plt.grid()\n",
    "plt.axis('scaled')\n"
   ]
  },
  {
   "cell_type": "markdown",
   "metadata": {},
   "source": [
    "Now, we'll rotate the ellipse so that eigenvectors are aligned with axes.  \n",
    "\n",
    "We create new vectors $\\mathbf{y} = Q^T\\mathbf{x}$.\n",
    "\n",
    "This gives the new quadratic form ${\\tilde q}\\ (y_1,y_2) = \\mathbf{y}^T D\\mathbf{y}$."
   ]
  },
  {
   "cell_type": "code",
   "execution_count": 228,
   "metadata": {},
   "outputs": [
    {
     "name": "stdout",
     "output_type": "stream",
     "text": [
      "The quadratic form q(y1,y2) =  3*y1**2 + 7*y2**2\n"
     ]
    }
   ],
   "source": [
    "y = sy.Matrix([['y1'],['y2']])\n",
    "\n",
    "Quady = simplify(y.T*D*y)[0]\n",
    "print('The quadratic form q(y1,y2) = ',Quady)"
   ]
  },
  {
   "cell_type": "markdown",
   "metadata": {},
   "source": [
    "This transforms the eigenvectors (either via rotation or reflection) to the axes.  \n",
    "\n",
    "Question:  What linear transformation is $Q^T$? (Look at its determinant.)"
   ]
  },
  {
   "cell_type": "code",
   "execution_count": 229,
   "metadata": {},
   "outputs": [
    {
     "name": "stdout",
     "output_type": "stream",
     "text": [
      "Matrix([[1], [0]])\n",
      "Matrix([[0], [1]])\n"
     ]
    },
    {
     "data": {
      "text/plain": [
       "1"
      ]
     },
     "execution_count": 229,
     "metadata": {},
     "output_type": "execute_result"
    }
   ],
   "source": [
    "y1 = np.transpose(Q)@u1\n",
    "print(y1)\n",
    "y2 = np.transpose(Q)@u2\n",
    "print(y2)\n",
    "Q.det()"
   ]
  },
  {
   "cell_type": "markdown",
   "metadata": {},
   "source": [
    "We can plot the level curve ${\\tilde q}\\ (y_1,y_2) = \\mathbf{y}^T D\\mathbf{y} = 1$ and see that the eigenvectors have moved to the axes.  \n"
   ]
  },
  {
   "cell_type": "code",
   "execution_count": 230,
   "metadata": {},
   "outputs": [
    {
     "data": {
      "image/png": "[encoded data removed]",
      "text/plain": [
       "<Figure size 432x288 with 1 Axes>"
      ]
     },
     "metadata": {},
     "output_type": "display_data"
    }
   ],
   "source": [
    "fig = plt.figure(2)\n",
    "ax = fig.add_subplot(111)\n",
    "\n",
    "y1 = np.linspace(-5,5,1000)\n",
    "y2 = np.linspace(-5,5,1000)\n",
    "y1,y2 = np.meshgrid(y1,y2)\n",
    "\n",
    "plt.contour(y1,y2,3*(y1**2)+7*(y2**2),[1])\n",
    "plt.arrow(0,0,1/np.sqrt(3),0)\n",
    "plt.arrow(0,0,0,1/np.sqrt(7))\n",
    "ax.annotate('(Q^T)u1', xy=(0.75, 0), xytext=(1.5, 0.5),\n",
    "            arrowprops=dict(facecolor='black', width = 1,shrink=0.05),\n",
    "            )\n",
    "ax.annotate('(Q^T)u2', xy=(0, 0.5), xytext=(-1, 1),\n",
    "            arrowprops=dict(facecolor='black', width = 1,shrink=0.1),\n",
    "            )\n",
    "\n",
    "plt.xlim([-2,2])\n",
    "plt.ylim([-2,2])\n",
    "axes()\n",
    "plt.xlabel('y1')\n",
    "plt.ylabel('y2')\n",
    "plt.grid()"
   ]
  },
  {
   "cell_type": "code",
   "execution_count": null,
   "metadata": {},
   "outputs": [],
   "source": []
  }
 ],
 "metadata": {
  "kernelspec": {
   "display_name": "Python 3",
   "language": "python",
   "name": "python3"
  },
  "language_info": {
   "codemirror_mode": {
    "name": "ipython",
    "version": 3
   },
   "file_extension": ".py",
   "mimetype": "text/x-python",
   "name": "python",
   "nbconvert_exporter": "python",
   "pygments_lexer": "ipython3",
   "version": "3.6.4"
  }
 },
 "nbformat": 4,
 "nbformat_minor": 2
}
